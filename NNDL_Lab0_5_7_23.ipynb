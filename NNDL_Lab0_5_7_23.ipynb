{
  "nbformat": 4,
  "nbformat_minor": 0,
  "metadata": {
    "colab": {
      "provenance": [],
      "authorship_tag": "ABX9TyMFfka+CFZuwo516YNubKjF"
    },
    "kernelspec": {
      "name": "python3",
      "display_name": "Python 3"
    },
    "language_info": {
      "name": "python"
    }
  },
  "cells": [
    {
      "cell_type": "code",
      "source": [
        "def Linear_regression(x,y):\n",
        "  n = len(x)\n",
        "  x_sum = sum(x)\n",
        "  y_sum = sum(y)\n",
        "  xy_sum = sum([xi*yi for xi,yi in zip(x,y)])\n",
        "  x_ssum = sum([xi**2 for xi in x])\n",
        "\n",
        "#calculating b0 and b1 using formula\n",
        "  b1 = (n*xy_sum-x_sum*y_sum)/(n*x_ssum-x_sum**2)\n",
        "  b0 = (y_sum-b1*x_sum)/n\n",
        "  return b1,b0"
      ],
      "metadata": {
        "id": "5blFwokEryIX"
      },
      "execution_count": 11,
      "outputs": []
    },
    {
      "cell_type": "code",
      "source": [
        "x = [5,6,8,10]\n",
        "y = [11,11,15,24]\n",
        "b1, b0 = Linear_regression(x,y)"
      ],
      "metadata": {
        "id": "tovSd_0MaM4R"
      },
      "execution_count": 12,
      "outputs": []
    },
    {
      "cell_type": "code",
      "source": [
        "#Slope\n",
        "print(\"Slope : \",b1)"
      ],
      "metadata": {
        "colab": {
          "base_uri": "https://localhost:8080/"
        },
        "id": "YKCDbjZVagjA",
        "outputId": "fced9c6c-a167-47cd-a371-4c21dad8e0a7"
      },
      "execution_count": 13,
      "outputs": [
        {
          "output_type": "stream",
          "name": "stdout",
          "text": [
            "Slope :  2.6271186440677967\n"
          ]
        }
      ]
    },
    {
      "cell_type": "code",
      "source": [
        "#Intercept\n",
        "print(\"Intercept : \",b0)"
      ],
      "metadata": {
        "colab": {
          "base_uri": "https://localhost:8080/"
        },
        "id": "mMKWKssma4XB",
        "outputId": "f63e5bbd-31d6-400d-d8ed-998c0a8035c7"
      },
      "execution_count": 14,
      "outputs": [
        {
          "output_type": "stream",
          "name": "stdout",
          "text": [
            "Intercept :  -3.796610169491526\n"
          ]
        }
      ]
    }
  ]
}