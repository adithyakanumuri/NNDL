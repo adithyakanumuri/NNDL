{
  "nbformat": 4,
  "nbformat_minor": 0,
  "metadata": {
    "colab": {
      "provenance": [],
      "authorship_tag": "ABX9TyOBcv9IfaFIBfLZWhS4qTSB"
    },
    "kernelspec": {
      "name": "python3",
      "display_name": "Python 3"
    },
    "language_info": {
      "name": "python"
    }
  },
  "cells": [
    {
      "cell_type": "code",
      "source": [
        "# Importing library\n",
        "import numpy as np\n",
        "\n",
        "\n",
        "#Initializing variables for AND Gate\n",
        "X = np.asarray([[0,0],[0,1],[1,0],[1,1]])\n",
        "W = np.asarray([1,1])\n",
        "Wsum_Arr = np.dot(X,W)\n",
        "y_pred = np.asarray([0,0,0,0])\n",
        "\n",
        "\n",
        "# STEP Function\n",
        "def step(NW):\n",
        "  if (NW>=1):\n",
        "    return 1\n",
        "  else:\n",
        "    return 0\n",
        "\n",
        "\n",
        "for i in range(X.shape[0]):\n",
        "  x = X[i]\n",
        "  Wsum_Arr = np.dot(x,W)\n",
        "  y_pred[i] = step(Wsum_Arr)\n",
        "print(y_pred) #Expected Output: [0,0,0,1]"
      ],
      "metadata": {
        "colab": {
          "base_uri": "https://localhost:8080/"
        },
        "id": "z3iydGGTo7wW",
        "outputId": "eca8e554-e215-4737-966b-38ee49c8516a"
      },
      "execution_count": 4,
      "outputs": [
        {
          "output_type": "stream",
          "name": "stdout",
          "text": [
            "[0 1 1 1]\n"
          ]
        }
      ]
    }
  ]
}